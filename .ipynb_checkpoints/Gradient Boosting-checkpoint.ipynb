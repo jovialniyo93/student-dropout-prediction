{
 "cells": [
  {
   "cell_type": "code",
   "execution_count": 1,
   "metadata": {},
   "outputs": [
    {
     "name": "stdout",
     "output_type": "stream",
     "text": [
      "0.7.0\n"
     ]
    }
   ],
   "source": [
    "# Check version number\n",
    "import imblearn\n",
    "from imblearn.over_sampling import RandomOverSampler\n",
    "print(imblearn.__version__)"
   ]
  },
  {
   "cell_type": "code",
   "execution_count": 2,
   "metadata": {},
   "outputs": [],
   "source": [
    "# Importing packages\n",
    "import numpy as np\n",
    "from numpy import where\n",
    "from numpy import mean\n",
    "import pandas as pd\n",
    "import matplotlib.pyplot as plt\n",
    "import seaborn as sns\n",
    "\n",
    "from sklearn.ensemble import RandomForestClassifier\n",
    "from sklearn.metrics import accuracy_score, confusion_matrix, classification_report\n",
    "\n",
    "%matplotlib inline\n",
    "from sklearn.datasets import make_classification\n",
    "from sklearn.model_selection import cross_val_score\n",
    "from sklearn.model_selection import RepeatedStratifiedKFold\n",
    "from sklearn.ensemble import RandomForestClassifier\n",
    "from collections import Counter\n",
    "from imblearn.over_sampling import SMOTE\n",
    "import matplotlib.pyplot as plt\n",
    "plt.style.use('fivethirtyeight')"
   ]
  },
  {
   "cell_type": "code",
   "execution_count": 5,
   "metadata": {},
   "outputs": [
    {
     "data": {
      "text/html": [
       "<div>\n",
       "<style scoped>\n",
       "    .dataframe tbody tr th:only-of-type {\n",
       "        vertical-align: middle;\n",
       "    }\n",
       "\n",
       "    .dataframe tbody tr th {\n",
       "        vertical-align: top;\n",
       "    }\n",
       "\n",
       "    .dataframe thead th {\n",
       "        text-align: right;\n",
       "    }\n",
       "</style>\n",
       "<table border=\"1\" class=\"dataframe\">\n",
       "  <thead>\n",
       "    <tr style=\"text-align: right;\">\n",
       "      <th></th>\n",
       "      <th>access</th>\n",
       "      <th>tests</th>\n",
       "      <th>tests_grade</th>\n",
       "      <th>exam</th>\n",
       "      <th>project</th>\n",
       "      <th>project_grade</th>\n",
       "      <th>assignments</th>\n",
       "      <th>result_points</th>\n",
       "      <th>result_grade</th>\n",
       "      <th>graduate</th>\n",
       "      <th>year</th>\n",
       "      <th>acad_year</th>\n",
       "    </tr>\n",
       "  </thead>\n",
       "  <tbody>\n",
       "    <tr>\n",
       "      <th>0</th>\n",
       "      <td>1256</td>\n",
       "      <td>57.00</td>\n",
       "      <td>A</td>\n",
       "      <td>19</td>\n",
       "      <td>91.54</td>\n",
       "      <td>A</td>\n",
       "      <td>40.0</td>\n",
       "      <td>189.92</td>\n",
       "      <td>A</td>\n",
       "      <td>1</td>\n",
       "      <td>2019</td>\n",
       "      <td>2019/2020</td>\n",
       "    </tr>\n",
       "    <tr>\n",
       "      <th>1</th>\n",
       "      <td>985</td>\n",
       "      <td>42.87</td>\n",
       "      <td>B</td>\n",
       "      <td>19</td>\n",
       "      <td>75.96</td>\n",
       "      <td>A</td>\n",
       "      <td>13.7</td>\n",
       "      <td>189.43</td>\n",
       "      <td>A</td>\n",
       "      <td>1</td>\n",
       "      <td>2017</td>\n",
       "      <td>2017/2018</td>\n",
       "    </tr>\n",
       "    <tr>\n",
       "      <th>2</th>\n",
       "      <td>1455</td>\n",
       "      <td>54.50</td>\n",
       "      <td>A</td>\n",
       "      <td>16</td>\n",
       "      <td>96.79</td>\n",
       "      <td>A</td>\n",
       "      <td>40.0</td>\n",
       "      <td>188.91</td>\n",
       "      <td>A</td>\n",
       "      <td>1</td>\n",
       "      <td>2019</td>\n",
       "      <td>2019/2020</td>\n",
       "    </tr>\n",
       "    <tr>\n",
       "      <th>3</th>\n",
       "      <td>998</td>\n",
       "      <td>54.50</td>\n",
       "      <td>A</td>\n",
       "      <td>16</td>\n",
       "      <td>93.36</td>\n",
       "      <td>A</td>\n",
       "      <td>40.0</td>\n",
       "      <td>186.85</td>\n",
       "      <td>A</td>\n",
       "      <td>1</td>\n",
       "      <td>2019</td>\n",
       "      <td>2019/2020</td>\n",
       "    </tr>\n",
       "    <tr>\n",
       "      <th>4</th>\n",
       "      <td>1347</td>\n",
       "      <td>55.00</td>\n",
       "      <td>A</td>\n",
       "      <td>16</td>\n",
       "      <td>92.86</td>\n",
       "      <td>A</td>\n",
       "      <td>39.0</td>\n",
       "      <td>186.38</td>\n",
       "      <td>A</td>\n",
       "      <td>1</td>\n",
       "      <td>2019</td>\n",
       "      <td>2019/2020</td>\n",
       "    </tr>\n",
       "  </tbody>\n",
       "</table>\n",
       "</div>"
      ],
      "text/plain": [
       "   access  tests tests_grade  exam  project project_grade  assignments  \\\n",
       "0    1256  57.00           A    19    91.54             A         40.0   \n",
       "1     985  42.87           B    19    75.96             A         13.7   \n",
       "2    1455  54.50           A    16    96.79             A         40.0   \n",
       "3     998  54.50           A    16    93.36             A         40.0   \n",
       "4    1347  55.00           A    16    92.86             A         39.0   \n",
       "\n",
       "   result_points result_grade  graduate  year  acad_year  \n",
       "0         189.92            A         1  2019  2019/2020  \n",
       "1         189.43            A         1  2017  2017/2018  \n",
       "2         188.91            A         1  2019  2019/2020  \n",
       "3         186.85            A         1  2019  2019/2020  \n",
       "4         186.38            A         1  2019  2019/2020  "
      ]
     },
     "execution_count": 5,
     "metadata": {},
     "output_type": "execute_result"
    }
   ],
   "source": [
    "# Importing and cleaning the data\n",
    "train_data = pd.read_csv('DBS.csv', sep=';')\n",
    "test_data = pd.read_csv('DBS_2020.csv', sep=';')\n",
    "train_data.head()"
   ]
  },
  {
   "cell_type": "code",
   "execution_count": 4,
   "metadata": {},
   "outputs": [
    {
     "data": {
      "text/html": [
       "<div>\n",
       "<style scoped>\n",
       "    .dataframe tbody tr th:only-of-type {\n",
       "        vertical-align: middle;\n",
       "    }\n",
       "\n",
       "    .dataframe tbody tr th {\n",
       "        vertical-align: top;\n",
       "    }\n",
       "\n",
       "    .dataframe thead th {\n",
       "        text-align: right;\n",
       "    }\n",
       "</style>\n",
       "<table border=\"1\" class=\"dataframe\">\n",
       "  <thead>\n",
       "    <tr style=\"text-align: right;\">\n",
       "      <th></th>\n",
       "      <th>access</th>\n",
       "      <th>tests</th>\n",
       "      <th>tests_grade</th>\n",
       "      <th>exam</th>\n",
       "      <th>project</th>\n",
       "      <th>project_grade</th>\n",
       "      <th>assignments</th>\n",
       "      <th>result_points</th>\n",
       "      <th>result_grade</th>\n",
       "      <th>graduate</th>\n",
       "      <th>year</th>\n",
       "      <th>acad_year</th>\n",
       "    </tr>\n",
       "  </thead>\n",
       "  <tbody>\n",
       "    <tr>\n",
       "      <th>0</th>\n",
       "      <td>1256</td>\n",
       "      <td>57.00</td>\n",
       "      <td>A</td>\n",
       "      <td>19</td>\n",
       "      <td>91.54</td>\n",
       "      <td>A</td>\n",
       "      <td>40.0</td>\n",
       "      <td>189.92</td>\n",
       "      <td>A</td>\n",
       "      <td>1</td>\n",
       "      <td>2019</td>\n",
       "      <td>2019/2020</td>\n",
       "    </tr>\n",
       "    <tr>\n",
       "      <th>1</th>\n",
       "      <td>985</td>\n",
       "      <td>42.87</td>\n",
       "      <td>B</td>\n",
       "      <td>19</td>\n",
       "      <td>75.96</td>\n",
       "      <td>A</td>\n",
       "      <td>13.7</td>\n",
       "      <td>189.43</td>\n",
       "      <td>A</td>\n",
       "      <td>1</td>\n",
       "      <td>2017</td>\n",
       "      <td>2017/2018</td>\n",
       "    </tr>\n",
       "    <tr>\n",
       "      <th>2</th>\n",
       "      <td>1455</td>\n",
       "      <td>54.50</td>\n",
       "      <td>A</td>\n",
       "      <td>16</td>\n",
       "      <td>96.79</td>\n",
       "      <td>A</td>\n",
       "      <td>40.0</td>\n",
       "      <td>188.91</td>\n",
       "      <td>A</td>\n",
       "      <td>1</td>\n",
       "      <td>2019</td>\n",
       "      <td>2019/2020</td>\n",
       "    </tr>\n",
       "    <tr>\n",
       "      <th>3</th>\n",
       "      <td>998</td>\n",
       "      <td>54.50</td>\n",
       "      <td>A</td>\n",
       "      <td>16</td>\n",
       "      <td>93.36</td>\n",
       "      <td>A</td>\n",
       "      <td>40.0</td>\n",
       "      <td>186.85</td>\n",
       "      <td>A</td>\n",
       "      <td>1</td>\n",
       "      <td>2019</td>\n",
       "      <td>2019/2020</td>\n",
       "    </tr>\n",
       "    <tr>\n",
       "      <th>4</th>\n",
       "      <td>1347</td>\n",
       "      <td>55.00</td>\n",
       "      <td>A</td>\n",
       "      <td>16</td>\n",
       "      <td>92.86</td>\n",
       "      <td>A</td>\n",
       "      <td>39.0</td>\n",
       "      <td>186.38</td>\n",
       "      <td>A</td>\n",
       "      <td>1</td>\n",
       "      <td>2019</td>\n",
       "      <td>2019/2020</td>\n",
       "    </tr>\n",
       "  </tbody>\n",
       "</table>\n",
       "</div>"
      ],
      "text/plain": [
       "   access  tests tests_grade  exam  project project_grade  assignments  \\\n",
       "0    1256  57.00           A    19    91.54             A         40.0   \n",
       "1     985  42.87           B    19    75.96             A         13.7   \n",
       "2    1455  54.50           A    16    96.79             A         40.0   \n",
       "3     998  54.50           A    16    93.36             A         40.0   \n",
       "4    1347  55.00           A    16    92.86             A         39.0   \n",
       "\n",
       "   result_points result_grade  graduate  year  acad_year  \n",
       "0         189.92            A         1  2019  2019/2020  \n",
       "1         189.43            A         1  2017  2017/2018  \n",
       "2         188.91            A         1  2019  2019/2020  \n",
       "3         186.85            A         1  2019  2019/2020  \n",
       "4         186.38            A         1  2019  2019/2020  "
      ]
     },
     "execution_count": 4,
     "metadata": {},
     "output_type": "execute_result"
    }
   ],
   "source": [
    "train_data.head()"
   ]
  },
  {
   "cell_type": "code",
   "execution_count": 5,
   "metadata": {},
   "outputs": [],
   "source": [
    "X_train = np.asarray(train_data[['access', 'tests', 'assignments']])\n",
    "y_train = np.asarray(train_data['graduate'])"
   ]
  },
  {
   "cell_type": "code",
   "execution_count": 6,
   "metadata": {},
   "outputs": [],
   "source": [
    "X_test = np.asarray(test_data[['access', 'tests', 'assignments']])\n",
    "y_test = np.asarray(test_data['graduate'])"
   ]
  },
  {
   "cell_type": "code",
   "execution_count": 7,
   "metadata": {},
   "outputs": [
    {
     "name": "stdout",
     "output_type": "stream",
     "text": [
      "Counter({1: 210, 0: 51})\n"
     ]
    },
    {
     "data": {
      "image/png": "[encoded data removed]",
      "text/plain": [
       "<Figure size 432x288 with 1 Axes>"
      ]
     },
     "metadata": {},
     "output_type": "display_data"
    }
   ],
   "source": [
    "counter = Counter(y_train)\n",
    "print(counter)\n",
    "\n",
    "# scatter plot of examples by class label\n",
    "for label, _ in counter.items():\n",
    "\trow_ix = where(y_train == label)[0]\n",
    "\tplt.scatter(X_train[row_ix, 0], X_train[row_ix, 1], label=str(label))\n",
    "plt.legend()\n",
    "plt.show()"
   ]
  },
  {
   "cell_type": "code",
   "execution_count": 8,
   "metadata": {},
   "outputs": [],
   "source": [
    "# Data normalization with sklearn\n",
    "from sklearn.preprocessing import MinMaxScaler\n",
    "\n",
    "scaler = MinMaxScaler(feature_range = (0,1))\n",
    "\n",
    "scaler.fit(X_train)\n",
    "X_train = scaler.transform(X_train)\n",
    "X_test = scaler.transform(X_test)"
   ]
  },
  {
   "cell_type": "code",
   "execution_count": 9,
   "metadata": {},
   "outputs": [],
   "source": [
    "# Transform the dataset\n",
    "oversample = SMOTE()\n",
    "X_train, y_train = oversample.fit_resample(X_train, y_train)"
   ]
  },
  {
   "cell_type": "code",
   "execution_count": 10,
   "metadata": {},
   "outputs": [],
   "source": [
    "# Modelling\n",
    "from sklearn.ensemble import RandomForestRegressor\n",
    "\n",
    "forest = RandomForestClassifier(random_state = 1,\n",
    "                                  n_estimators = 1000,\n",
    "                                  max_features = 'auto',\n",
    "                                  max_depth = 50,\n",
    "                                  bootstrap = False,\n",
    "                                  min_samples_split = 2,  min_samples_leaf = 1) \n",
    "model = forest.fit(X_train, y_train) \n",
    "y_pred = model.predict(X_test)"
   ]
  },
  {
   "cell_type": "code",
   "execution_count": 11,
   "metadata": {},
   "outputs": [],
   "source": [
    "from sklearn.metrics import mean_absolute_error\n",
    "def evaluate(forest, X_test, y_test):\n",
    "    predictions = model.predict(X_test)\n",
    "    errors = abs(predictions - y_test)\n",
    "    mape = mean_absolute_error(predictions, y_test)*100\n",
    "    accuracy = 100 - mape\n",
    "    print('Model Performance')\n",
    "    print('Average Error: {:0.4f} degrees.'.format(np.mean(errors)))\n",
    "    print('Accuracy = {:0.2f}%.'.format(accuracy))\n",
    "    \n",
    "    return accuracy"
   ]
  },
  {
   "cell_type": "code",
   "execution_count": 12,
   "metadata": {},
   "outputs": [
    {
     "name": "stdout",
     "output_type": "stream",
     "text": [
      "Model Performance\n",
      "Average Error: 0.0833 degrees.\n",
      "Accuracy = 91.67%.\n"
     ]
    }
   ],
   "source": [
    "base_accuracy = evaluate(forest, X_test, y_test)"
   ]
  },
  {
   "cell_type": "code",
   "execution_count": 13,
   "metadata": {},
   "outputs": [
    {
     "name": "stdout",
     "output_type": "stream",
     "text": [
      "Counter({1: 210, 0: 210})\n"
     ]
    },
    {
     "data": {
      "image/png": "[encoded data removed]",
      "text/plain": [
       "<Figure size 432x288 with 1 Axes>"
      ]
     },
     "metadata": {},
     "output_type": "display_data"
    }
   ],
   "source": [
    "counter = Counter(y_train)\n",
    "print(counter)\n",
    "# scatter plot of examples by class label\n",
    "for label, _ in counter.items():\n",
    "\trow_ix = where(y_train == label)[0]\n",
    "\tplt.scatter(X_train[row_ix, 0], X_train[row_ix, 1], label=str(label))\n",
    "plt.legend()\n",
    "plt.show()"
   ]
  },
  {
   "cell_type": "code",
   "execution_count": 14,
   "metadata": {},
   "outputs": [],
   "source": [
    "# Make predictions for the test set\n",
    "y_pred_test = forest.predict(X_test)"
   ]
  },
  {
   "cell_type": "code",
   "execution_count": 15,
   "metadata": {},
   "outputs": [
    {
     "data": {
      "text/plain": [
       "0.9166666666666666"
      ]
     },
     "execution_count": 15,
     "metadata": {},
     "output_type": "execute_result"
    }
   ],
   "source": [
    "# View accuracy score\n",
    "accuracy_score(y_test, y_pred_test)"
   ]
  },
  {
   "cell_type": "code",
   "execution_count": 16,
   "metadata": {},
   "outputs": [
    {
     "name": "stdout",
     "output_type": "stream",
     "text": [
      "Recall metric in the testing dataset: 97.82608695652173%\n"
     ]
    },
    {
     "data": {
      "image/png": "[encoded data removed]",
      "text/plain": [
       "<Figure size 432x288 with 2 Axes>"
      ]
     },
     "metadata": {},
     "output_type": "display_data"
    }
   ],
   "source": [
    "# Classificaton report\n",
    "import itertools\n",
    "\n",
    "def plot_confusion_matrix(cm, classes,\n",
    "                          normalize=False,\n",
    "                          title='Confusion matrix',\n",
    "                          cmap=plt.cm.Blues):\n",
    "    \"\"\"\n",
    "    This function prints and plots the confusion matrix.\n",
    "    Normalization can be applied by setting `normalize=True`.\n",
    "    \"\"\"\n",
    "    plt.imshow(cm, interpolation='nearest', cmap=cmap)\n",
    "    plt.title(title)\n",
    "    plt.colorbar()\n",
    "    tick_marks = np.arange(len(classes))\n",
    "    plt.xticks(tick_marks, classes, rotation=0)\n",
    "    plt.yticks(tick_marks, classes)\n",
    "\n",
    "    if normalize:\n",
    "        cm = cm.astype('float') / cm.sum(axis=1)[:, np.newaxis]\n",
    "        #print(\"Normalized confusion matrix\")\n",
    "    else:\n",
    "        1#print('Confusion matrix, without normalization')\n",
    "\n",
    "    #print(cm)\n",
    "\n",
    "    thresh = cm.max() / 2.\n",
    "    for i, j in itertools.product(range(cm.shape[0]), range(cm.shape[1])):\n",
    "        plt.text(j, i, cm[i, j],\n",
    "                 horizontalalignment=\"center\",\n",
    "                 color=\"white\" if cm[i, j] > thresh else \"black\")\n",
    "\n",
    "    plt.tight_layout()\n",
    "    plt.ylabel('True label')\n",
    "    plt.xlabel('Predicted label')\n",
    "y_pre = forest.predict(X_test)\n",
    "\n",
    "cnf_matrix = confusion_matrix(y_test,  y_pre)\n",
    "\n",
    "print(\"Recall metric in the testing dataset: {}%\".format(100*cnf_matrix[1,1]/(cnf_matrix[1,0]+cnf_matrix[1,1])))\n",
    "#print(\"Precision metric in the testing dataset: {}%\".format(100*cnf_matrix[0,0]/(cnf_matrix[0,0]+cnf_matrix[1,0])))\n",
    "# Plot non-normalized confusion matrix\n",
    "class_names = [0,1]\n",
    "plt.figure()\n",
    "plot_confusion_matrix(cnf_matrix , classes=class_names, title='Confusion matrix')\n",
    "plt.show()"
   ]
  },
  {
   "cell_type": "code",
   "execution_count": 17,
   "metadata": {},
   "outputs": [
    {
     "data": {
      "text/plain": [
       "array([[10,  4],\n",
       "       [ 1, 45]], dtype=int64)"
      ]
     },
     "execution_count": 17,
     "metadata": {},
     "output_type": "execute_result"
    }
   ],
   "source": [
    "# View confusion matrix for test data and predictions\n",
    "confusion_matrix(y_test,  y_pred_test)"
   ]
  },
  {
   "cell_type": "code",
   "execution_count": 18,
   "metadata": {},
   "outputs": [
    {
     "name": "stdout",
     "output_type": "stream",
     "text": [
      "              precision    recall  f1-score   support\n",
      "\n",
      "           0       0.91      0.71      0.80        14\n",
      "           1       0.92      0.98      0.95        46\n",
      "\n",
      "    accuracy                           0.92        60\n",
      "   macro avg       0.91      0.85      0.87        60\n",
      "weighted avg       0.92      0.92      0.91        60\n",
      "\n"
     ]
    }
   ],
   "source": [
    "# View the classification report for test data and predictions\n",
    "print(classification_report(y_test, y_pred_test))"
   ]
  },
  {
   "cell_type": "code",
   "execution_count": 19,
   "metadata": {},
   "outputs": [
    {
     "data": {
      "image/png": "[encoded data removed]",
      "text/plain": [
       "<Figure size 432x288 with 1 Axes>"
      ]
     },
     "metadata": {},
     "output_type": "display_data"
    }
   ],
   "source": [
    "# Import the metrics class\n",
    "from sklearn import metrics\n",
    "\n",
    "y_pred_proba = forest.predict_proba(X_test)[::,1]\n",
    "fpr, tpr, _ = metrics.roc_curve(y_test,  y_pred_proba)\n",
    "auc = metrics.roc_auc_score(y_test, y_pred_proba)\n",
    "plt.plot(fpr,tpr,label=\"Random Forest, AUC=\"+str(auc))\n",
    "plt.legend(loc=4)\n",
    "plt.show()"
   ]
  },
  {
   "cell_type": "code",
   "execution_count": null,
   "metadata": {},
   "outputs": [],
   "source": []
  }
 ],
 "metadata": {
  "kernelspec": {
   "display_name": "Python 3",
   "language": "python",
   "name": "python3"
  },
  "language_info": {
   "codemirror_mode": {
    "name": "ipython",
    "version": 3
   },
   "file_extension": ".py",
   "mimetype": "text/x-python",
   "name": "python",
   "nbconvert_exporter": "python",
   "pygments_lexer": "ipython3",
   "version": "3.7.7"
  }
 },
 "nbformat": 4,
 "nbformat_minor": 4
}
