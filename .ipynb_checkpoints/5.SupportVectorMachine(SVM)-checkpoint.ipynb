{
 "cells": [
  {
   "cell_type": "code",
   "execution_count": 1,
   "metadata": {},
   "outputs": [],
   "source": [
    "# Importing packages\n",
    "import pandas as pd\n",
    "import numpy as np\n",
    "import matplotlib.pyplot as plt\n",
    "%matplotlib inline\n",
    "from collections import Counter\n",
    "from sklearn.preprocessing import StandardScaler # data normalization\n",
    "from imblearn.over_sampling import SMOTE\n",
    "from numpy import where\n",
    "import itertools # construct specialized tools\n",
    "from matplotlib import rcParams # plot size customization"
   ]
  },
  {
   "cell_type": "code",
   "execution_count": 2,
   "metadata": {},
   "outputs": [
    {
     "name": "stdout",
     "output_type": "stream",
     "text": [
      "Requirement already satisfied: imbalanced-learn in c:\\users\\user\\anaconda3\\lib\\site-packages (0.7.0)\n",
      "Requirement already satisfied: numpy>=1.13.3 in c:\\users\\user\\anaconda3\\lib\\site-packages (from imbalanced-learn) (1.19.4)\n",
      "Requirement already satisfied: joblib>=0.11 in c:\\users\\user\\anaconda3\\lib\\site-packages (from imbalanced-learn) (0.16.0)\n",
      "Requirement already satisfied: scikit-learn>=0.23 in c:\\users\\user\\anaconda3\\lib\\site-packages (from imbalanced-learn) (0.23.1)\n",
      "Requirement already satisfied: scipy>=0.19.1 in c:\\users\\user\\anaconda3\\lib\\site-packages (from imbalanced-learn) (1.5.0)\n",
      "Requirement already satisfied: threadpoolctl>=2.0.0 in c:\\users\\user\\anaconda3\\lib\\site-packages (from scikit-learn>=0.23->imbalanced-learn) (2.1.0)\n",
      "Note: you may need to restart the kernel to use updated packages.\n"
     ]
    }
   ],
   "source": [
    "pip install imbalanced-learn"
   ]
  },
  {
   "cell_type": "code",
   "execution_count": 3,
   "metadata": {},
   "outputs": [
    {
     "name": "stdout",
     "output_type": "stream",
     "text": [
      "0.7.0\n"
     ]
    }
   ],
   "source": [
    "# Check version number\n",
    "import imblearn\n",
    "from imblearn.over_sampling import RandomOverSampler\n",
    "print(imblearn.__version__)"
   ]
  },
  {
   "cell_type": "code",
   "execution_count": 4,
   "metadata": {},
   "outputs": [
    {
     "data": {
      "text/html": [
       "<div>\n",
       "<style scoped>\n",
       "    .dataframe tbody tr th:only-of-type {\n",
       "        vertical-align: middle;\n",
       "    }\n",
       "\n",
       "    .dataframe tbody tr th {\n",
       "        vertical-align: top;\n",
       "    }\n",
       "\n",
       "    .dataframe thead th {\n",
       "        text-align: right;\n",
       "    }\n",
       "</style>\n",
       "<table border=\"1\" class=\"dataframe\">\n",
       "  <thead>\n",
       "    <tr style=\"text-align: right;\">\n",
       "      <th></th>\n",
       "      <th>access</th>\n",
       "      <th>tests</th>\n",
       "      <th>tests_grade</th>\n",
       "      <th>exam</th>\n",
       "      <th>project</th>\n",
       "      <th>project_grade</th>\n",
       "      <th>assignments</th>\n",
       "      <th>result_points</th>\n",
       "      <th>result_grade</th>\n",
       "      <th>graduate</th>\n",
       "      <th>year</th>\n",
       "      <th>acad_year</th>\n",
       "    </tr>\n",
       "  </thead>\n",
       "  <tbody>\n",
       "    <tr>\n",
       "      <th>0</th>\n",
       "      <td>1256</td>\n",
       "      <td>57.00</td>\n",
       "      <td>A</td>\n",
       "      <td>19</td>\n",
       "      <td>91.54</td>\n",
       "      <td>A</td>\n",
       "      <td>40.0</td>\n",
       "      <td>189.92</td>\n",
       "      <td>A</td>\n",
       "      <td>1</td>\n",
       "      <td>2019</td>\n",
       "      <td>2019/2020</td>\n",
       "    </tr>\n",
       "    <tr>\n",
       "      <th>1</th>\n",
       "      <td>985</td>\n",
       "      <td>42.87</td>\n",
       "      <td>B</td>\n",
       "      <td>19</td>\n",
       "      <td>75.96</td>\n",
       "      <td>A</td>\n",
       "      <td>13.7</td>\n",
       "      <td>189.43</td>\n",
       "      <td>A</td>\n",
       "      <td>1</td>\n",
       "      <td>2017</td>\n",
       "      <td>2017/2018</td>\n",
       "    </tr>\n",
       "    <tr>\n",
       "      <th>2</th>\n",
       "      <td>1455</td>\n",
       "      <td>54.50</td>\n",
       "      <td>A</td>\n",
       "      <td>16</td>\n",
       "      <td>96.79</td>\n",
       "      <td>A</td>\n",
       "      <td>40.0</td>\n",
       "      <td>188.91</td>\n",
       "      <td>A</td>\n",
       "      <td>1</td>\n",
       "      <td>2019</td>\n",
       "      <td>2019/2020</td>\n",
       "    </tr>\n",
       "    <tr>\n",
       "      <th>3</th>\n",
       "      <td>998</td>\n",
       "      <td>54.50</td>\n",
       "      <td>A</td>\n",
       "      <td>16</td>\n",
       "      <td>93.36</td>\n",
       "      <td>A</td>\n",
       "      <td>40.0</td>\n",
       "      <td>186.85</td>\n",
       "      <td>A</td>\n",
       "      <td>1</td>\n",
       "      <td>2019</td>\n",
       "      <td>2019/2020</td>\n",
       "    </tr>\n",
       "    <tr>\n",
       "      <th>4</th>\n",
       "      <td>1347</td>\n",
       "      <td>55.00</td>\n",
       "      <td>A</td>\n",
       "      <td>16</td>\n",
       "      <td>92.86</td>\n",
       "      <td>A</td>\n",
       "      <td>39.0</td>\n",
       "      <td>186.38</td>\n",
       "      <td>A</td>\n",
       "      <td>1</td>\n",
       "      <td>2019</td>\n",
       "      <td>2019/2020</td>\n",
       "    </tr>\n",
       "  </tbody>\n",
       "</table>\n",
       "</div>"
      ],
      "text/plain": [
       "   access  tests tests_grade  exam  project project_grade  assignments  \\\n",
       "0    1256  57.00           A    19    91.54             A         40.0   \n",
       "1     985  42.87           B    19    75.96             A         13.7   \n",
       "2    1455  54.50           A    16    96.79             A         40.0   \n",
       "3     998  54.50           A    16    93.36             A         40.0   \n",
       "4    1347  55.00           A    16    92.86             A         39.0   \n",
       "\n",
       "   result_points result_grade  graduate  year  acad_year  \n",
       "0         189.92            A         1  2019  2019/2020  \n",
       "1         189.43            A         1  2017  2017/2018  \n",
       "2         188.91            A         1  2019  2019/2020  \n",
       "3         186.85            A         1  2019  2019/2020  \n",
       "4         186.38            A         1  2019  2019/2020  "
      ]
     },
     "execution_count": 4,
     "metadata": {},
     "output_type": "execute_result"
    }
   ],
   "source": [
    "# Importing and cleaning the data\n",
    "train_data = pd.read_csv('DBS.csv', sep=';')\n",
    "test_data = pd.read_csv('DBS_2020.csv', sep=';')\n",
    "train_data.head()"
   ]
  },
  {
   "cell_type": "code",
   "execution_count": 5,
   "metadata": {},
   "outputs": [],
   "source": [
    "X_train = np.asarray(train_data[['access', 'tests', 'assignments']])\n",
    "y_train = np.asarray(train_data['graduate'])"
   ]
  },
  {
   "cell_type": "code",
   "execution_count": 6,
   "metadata": {},
   "outputs": [],
   "source": [
    "X_test = np.asarray(test_data[['access', 'tests', 'assignments']])\n",
    "y_test = np.asarray(test_data['graduate'])"
   ]
  },
  {
   "cell_type": "code",
   "execution_count": 7,
   "metadata": {},
   "outputs": [],
   "source": [
    "from numpy import mean\n",
    "from sklearn.datasets import make_classification\n",
    "from sklearn.model_selection import cross_val_score\n",
    "from sklearn.model_selection import RepeatedStratifiedKFold"
   ]
  },
  {
   "cell_type": "code",
   "execution_count": 8,
   "metadata": {},
   "outputs": [],
   "source": [
    "standardizer = StandardScaler()"
   ]
  },
  {
   "cell_type": "code",
   "execution_count": 9,
   "metadata": {},
   "outputs": [],
   "source": [
    "# Transform the dataset\n",
    "oversample = SMOTE()\n",
    "X_train, y_train = oversample.fit_resample(X_train, y_train)"
   ]
  },
  {
   "cell_type": "code",
   "execution_count": 10,
   "metadata": {},
   "outputs": [
    {
     "name": "stdout",
     "output_type": "stream",
     "text": [
      "Counter({1: 210, 0: 210})\n"
     ]
    }
   ],
   "source": [
    "# Summarize the new class distribution\n",
    "counter = Counter(y_train)\n",
    "print(counter)"
   ]
  },
  {
   "cell_type": "code",
   "execution_count": 11,
   "metadata": {},
   "outputs": [
    {
     "data": {
      "text/plain": [
       "SVC(gamma='auto', kernel='linear', probability=True)"
      ]
     },
     "execution_count": 11,
     "metadata": {},
     "output_type": "execute_result"
    }
   ],
   "source": [
    "# Modelling\n",
    "from sklearn.svm import SVC\n",
    "svclassifier = SVC(C=1.0, kernel='linear', degree=3, gamma='auto',probability=True)\n",
    "svclassifier.fit(X_train, y_train)"
   ]
  },
  {
   "cell_type": "code",
   "execution_count": 12,
   "metadata": {},
   "outputs": [
    {
     "name": "stdout",
     "output_type": "stream",
     "text": [
      "Mean ROC AUC: 0.979\n",
      "19.160336017608643\n"
     ]
    }
   ],
   "source": [
    "#Evaluate pipeline\n",
    "cv = RepeatedStratifiedKFold(n_splits=5, n_repeats=2, random_state=1)\n",
    "scores = cross_val_score(svclassifier, X_test, y_test, scoring='roc_auc', cv=cv, n_jobs=-1)\n",
    "print('Mean ROC AUC: %.3f' % mean(scores))"
   ]
  },
  {
   "cell_type": "code",
   "execution_count": 13,
   "metadata": {},
   "outputs": [],
   "source": [
    "# Predictions\n",
    "yhat = svclassifier.predict(X_test)"
   ]
  },
  {
   "cell_type": "code",
   "execution_count": 14,
   "metadata": {},
   "outputs": [],
   "source": [
    "# Predictions\n",
    "yhat_prob = svclassifier.predict_proba(X_test)"
   ]
  },
  {
   "cell_type": "code",
   "execution_count": 15,
   "metadata": {},
   "outputs": [
    {
     "name": "stdout",
     "output_type": "stream",
     "text": [
      "              precision    recall  f1-score   support\n",
      "\n",
      "           0       0.85      0.79      0.81        14\n",
      "           1       0.94      0.96      0.95        46\n",
      "\n",
      "    accuracy                           0.92        60\n",
      "   macro avg       0.89      0.87      0.88        60\n",
      "weighted avg       0.92      0.92      0.92        60\n",
      "\n"
     ]
    }
   ],
   "source": [
    "# Classificaton report\n",
    "from sklearn.metrics import classification_report\n",
    "print(classification_report(y_test, yhat))"
   ]
  },
  {
   "cell_type": "code",
   "execution_count": 16,
   "metadata": {},
   "outputs": [
    {
     "data": {
      "image/png": "[encoded data removed]",
      "text/plain": [
       "<Figure size 432x288 with 2 Axes>"
      ]
     },
     "metadata": {
      "needs_background": "light"
     },
     "output_type": "display_data"
    }
   ],
   "source": [
    "# Confusion matrix\n",
    "from sklearn.metrics import confusion_matrix # evaluation metric\n",
    "def plot_confusion_matrix(cm, classes,normalize = False, title = 'Confusion matrix', cmap = plt.cm.Blues):\n",
    "    \n",
    "    if normalize:\n",
    "        cm = cm.astype(float) / cm.sum(axis=1)[:, np.newaxis]\n",
    "\n",
    "    plt.imshow(cm, interpolation = 'nearest', cmap = cmap)\n",
    "    plt.title(title, fontsize = 22)\n",
    "    plt.colorbar()\n",
    "    tick_marks = np.arange(len(classes))\n",
    "    plt.xticks(tick_marks, classes, rotation = 45, fontsize = 13)\n",
    "    plt.yticks(tick_marks, classes, fontsize = 13)\n",
    "\n",
    "    fmt = '.2f' if normalize else 'd'\n",
    "    thresh = cm.max() / 2.\n",
    "    for i, j in itertools.product(range(cm.shape[0]), range(cm.shape[1])):\n",
    "        plt.text(j, i, format(cm[i, j], fmt),\n",
    "                 horizontalalignment = 'center',\n",
    "                 fontsize = 15,\n",
    "                 color = 'white' if cm[i, j] > thresh else 'black')\n",
    "\n",
    "    plt.tight_layout()\n",
    "    plt.ylabel('True label', fontsize = 16)\n",
    "    plt.xlabel('Predicted label', fontsize = 16)\n",
    "\n",
    "# Compute confusion matrix\n",
    "\n",
    "cnf_matrix = confusion_matrix(y_test, yhat, labels = [1,0])\n",
    "np.set_printoptions(precision = 2)\n",
    "\n",
    "\n",
    "# Plot non-normalized confusion matrix\n",
    "\n",
    "plt.figure()\n",
    "plot_confusion_matrix(cnf_matrix, classes = ['churn=1','churn=0'], normalize = False,  title = 'Confusion matrix')\n",
    "plt.savefig('confusion_matrix.png')"
   ]
  },
  {
   "cell_type": "code",
   "execution_count": 18,
   "metadata": {},
   "outputs": [
    {
     "data": {
      "image/png": "[encoded data removed]",
      "text/plain": [
       "<Figure size 432x288 with 1 Axes>"
      ]
     },
     "metadata": {
      "needs_background": "light"
     },
     "output_type": "display_data"
    }
   ],
   "source": [
    "# Import the metrics class\n",
    "from sklearn import metrics\n",
    "y_pred_proba = svclassifier.predict_proba(X_test)[::,1]\n",
    "fpr, tpr, _ = metrics.roc_curve(y_test, y_pred_proba)\n",
    "auc = metrics.roc_auc_score(y_test, y_pred_proba)\n",
    "plt.plot(fpr,tpr,label=\"Support Vector Machine, AUC=\"+str(auc))\n",
    "plt.legend(loc=4)\n",
    "plt.show()"
   ]
  }
 ],
 "metadata": {
  "kernelspec": {
   "display_name": "Python 3",
   "language": "python",
   "name": "python3"
  },
  "language_info": {
   "codemirror_mode": {
    "name": "ipython",
    "version": 3
   },
   "file_extension": ".py",
   "mimetype": "text/x-python",
   "name": "python",
   "nbconvert_exporter": "python",
   "pygments_lexer": "ipython3",
   "version": "3.7.7"
  }
 },
 "nbformat": 4,
 "nbformat_minor": 4
}
