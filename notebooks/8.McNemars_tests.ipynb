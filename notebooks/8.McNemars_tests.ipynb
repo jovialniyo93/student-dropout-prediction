{
 "cells": [
  {
   "cell_type": "code",
   "execution_count": 1,
   "metadata": {},
   "outputs": [
    {
     "name": "stdout",
     "output_type": "stream",
     "text": [
      "Defaulting to user installation because normal site-packages is not writeable\n",
      "Requirement already satisfied: imbalanced-learn in c:\\users\\jovialn\\appdata\\roaming\\python\\python310\\site-packages (0.11.0)\n",
      "Requirement already satisfied: numpy>=1.17.3 in c:\\program files\\python310\\lib\\site-packages (from imbalanced-learn) (1.23.2)\n",
      "Requirement already satisfied: scipy>=1.5.0 in c:\\program files\\python310\\lib\\site-packages (from imbalanced-learn) (1.11.1)\n",
      "Requirement already satisfied: scikit-learn>=1.0.2 in c:\\program files\\python310\\lib\\site-packages (from imbalanced-learn) (1.3.0)\n",
      "Requirement already satisfied: joblib>=1.1.1 in c:\\program files\\python310\\lib\\site-packages (from imbalanced-learn) (1.3.1)\n",
      "Requirement already satisfied: threadpoolctl>=2.0.0 in c:\\program files\\python310\\lib\\site-packages (from imbalanced-learn) (3.1.0)\n"
     ]
    }
   ],
   "source": [
    "!pip install imbalanced-learn"
   ]
  },
  {
   "cell_type": "code",
   "execution_count": 2,
   "metadata": {},
   "outputs": [
    {
     "name": "stdout",
     "output_type": "stream",
     "text": [
      "Defaulting to user installation because normal site-packages is not writeable\n",
      "Requirement already satisfied: statsmodels in c:\\users\\jovialn\\appdata\\roaming\\python\\python310\\site-packages (0.14.0)\n",
      "Requirement already satisfied: numpy>=1.18 in c:\\program files\\python310\\lib\\site-packages (from statsmodels) (1.23.2)\n",
      "Requirement already satisfied: scipy!=1.9.2,>=1.4 in c:\\program files\\python310\\lib\\site-packages (from statsmodels) (1.11.1)\n",
      "Requirement already satisfied: pandas>=1.0 in c:\\users\\jovialn\\appdata\\roaming\\python\\python310\\site-packages (from statsmodels) (1.4.3)\n",
      "Requirement already satisfied: patsy>=0.5.2 in c:\\users\\jovialn\\appdata\\roaming\\python\\python310\\site-packages (from statsmodels) (0.5.3)\n",
      "Requirement already satisfied: packaging>=21.3 in c:\\program files\\python310\\lib\\site-packages (from statsmodels) (21.3)\n",
      "Requirement already satisfied: pyparsing!=3.0.5,>=2.0.2 in c:\\program files\\python310\\lib\\site-packages (from packaging>=21.3->statsmodels) (3.0.9)\n",
      "Requirement already satisfied: python-dateutil>=2.8.1 in c:\\program files\\python310\\lib\\site-packages (from pandas>=1.0->statsmodels) (2.8.2)\n",
      "Requirement already satisfied: pytz>=2020.1 in c:\\users\\jovialn\\appdata\\roaming\\python\\python310\\site-packages (from pandas>=1.0->statsmodels) (2022.2.1)\n",
      "Requirement already satisfied: six in c:\\program files\\python310\\lib\\site-packages (from patsy>=0.5.2->statsmodels) (1.16.0)\n"
     ]
    }
   ],
   "source": [
    "! pip install statsmodels"
   ]
  },
  {
   "cell_type": "code",
   "execution_count": 3,
   "metadata": {},
   "outputs": [
    {
     "name": "stdout",
     "output_type": "stream",
     "text": [
      "statistic=0.000, p-value=1.000\n",
      "Same proportions of errors (fail to reject H0)\n"
     ]
    }
   ],
   "source": [
    "# Logistic Regression VS Decision Tree\n",
    "# LR vs DT\n",
    "# ----------------------------------------------------------------------------\n",
    "from statsmodels.stats.contingency_tables import mcnemar\n",
    "table = [[12, 1],\n",
    "\t\t [0, 47]]\n",
    "result = mcnemar(table, exact=True)\n",
    "print('statistic=%.3f, p-value=%.3f' % (result.statistic, result.pvalue))\n",
    "alpha = 0.05\n",
    "if result.pvalue > alpha:\n",
    "\tprint('Same proportions of errors (fail to reject H0)')\n",
    "else:\n",
    "\tprint('Different proportions of errors (reject H0)')"
   ]
  },
  {
   "cell_type": "code",
   "execution_count": 4,
   "metadata": {},
   "outputs": [
    {
     "name": "stdout",
     "output_type": "stream",
     "text": [
      "statistic=0.000, p-value=0.500\n",
      "Same proportions of errors (fail to reject H0)\n"
     ]
    }
   ],
   "source": [
    "# Logistic Regression VS Random Forest\n",
    "# LR vs RF\n",
    "# ----------------------------------------------------------------------------\n",
    "from statsmodels.stats.contingency_tables import mcnemar\n",
    "table = [[13, 0],\n",
    "\t\t [2, 45]]\n",
    "result = mcnemar(table, exact=True)\n",
    "print('statistic=%.3f, p-value=%.3f' % (result.statistic, result.pvalue))\n",
    "alpha = 0.05\n",
    "if result.pvalue > alpha:\n",
    "\tprint('Same proportions of errors (fail to reject H0)')\n",
    "else:\n",
    "\tprint('Different proportions of errors (reject H0)')"
   ]
  },
  {
   "cell_type": "code",
   "execution_count": 5,
   "metadata": {},
   "outputs": [
    {
     "name": "stdout",
     "output_type": "stream",
     "text": [
      "statistic=1.000, p-value=0.001\n",
      "Different proportions of errors (reject H0)\n"
     ]
    }
   ],
   "source": [
    "# Logistic Regression VS Naive Bayes\n",
    "# LR vs NB\n",
    "# ----------------------------------------------------------------------------\n",
    "from statsmodels.stats.contingency_tables import mcnemar\n",
    "table = [[12, 1],\n",
    "\t\t [14, 33]]\n",
    "result = mcnemar(table, exact=True)\n",
    "print('statistic=%.3f, p-value=%.3f' % (result.statistic, result.pvalue))\n",
    "alpha = 0.05\n",
    "if result.pvalue > alpha:\n",
    "\tprint('Same proportions of errors (fail to reject H0)')\n",
    "else:\n",
    "\tprint('Different proportions of errors (reject H0)')"
   ]
  },
  {
   "cell_type": "code",
   "execution_count": 6,
   "metadata": {},
   "outputs": [
    {
     "name": "stdout",
     "output_type": "stream",
     "text": [
      "statistic=0.000, p-value=1.000\n",
      "Same proportions of errors (fail to reject H0)\n"
     ]
    }
   ],
   "source": [
    "# Logistic Regression VS Support-Vector Machine\n",
    "# LR vs SVM\n",
    "# ----------------------------------------------------------------------------\n",
    "from statsmodels.stats.contingency_tables import mcnemar\n",
    "table = [[12, 1],\n",
    "\t\t [0, 47]]\n",
    "result = mcnemar(table, exact=True)\n",
    "print('statistic=%.3f, p-value=%.3f' % (result.statistic, result.pvalue))\n",
    "alpha = 0.05\n",
    "if result.pvalue > alpha:\n",
    "\tprint('Same proportions of errors (fail to reject H0)')\n",
    "else:\n",
    "\tprint('Different proportions of errors (reject H0)')"
   ]
  },
  {
   "cell_type": "code",
   "execution_count": 7,
   "metadata": {},
   "outputs": [
    {
     "name": "stdout",
     "output_type": "stream",
     "text": [
      "statistic=0.000, p-value=0.250\n",
      "Same proportions of errors (fail to reject H0)\n"
     ]
    }
   ],
   "source": [
    "# Decision Tree VS Random Forest\n",
    "# DT vs RF\n",
    "# ----------------------------------------------------------------------------\n",
    "from statsmodels.stats.contingency_tables import mcnemar\n",
    "table = [[12, 0],\n",
    "\t\t [3, 45]]\n",
    "result = mcnemar(table, exact=True)\n",
    "print('statistic=%.3f, p-value=%.3f' % (result.statistic, result.pvalue))\n",
    "alpha = 0.05\n",
    "if result.pvalue > alpha:\n",
    "\tprint('Same proportions of errors (fail to reject H0)')\n",
    "else:\n",
    "\tprint('Different proportions of errors (reject H0)')"
   ]
  },
  {
   "cell_type": "code",
   "execution_count": 8,
   "metadata": {},
   "outputs": [
    {
     "name": "stdout",
     "output_type": "stream",
     "text": [
      "statistic=0.000, p-value=0.000\n",
      "Different proportions of errors (reject H0)\n"
     ]
    }
   ],
   "source": [
    "# Decision Tree VS Naive Bayes\n",
    "# DT vs NB\n",
    "# ----------------------------------------------------------------------------\n",
    "from statsmodels.stats.contingency_tables import mcnemar\n",
    "table = [[12, 0],\n",
    "\t\t [14, 34]]\n",
    "result = mcnemar(table, exact=True)\n",
    "print('statistic=%.3f, p-value=%.3f' % (result.statistic, result.pvalue))\n",
    "alpha = 0.05\n",
    "if result.pvalue > alpha:\n",
    "\tprint('Same proportions of errors (fail to reject H0)')\n",
    "else:\n",
    "\tprint('Different proportions of errors (reject H0)')"
   ]
  },
  {
   "cell_type": "code",
   "execution_count": 9,
   "metadata": {},
   "outputs": [
    {
     "name": "stdout",
     "output_type": "stream",
     "text": [
      "statistic=0.000, p-value=1.000\n",
      "Same proportions of errors (fail to reject H0)\n"
     ]
    }
   ],
   "source": [
    "# Decision Tree VS Support-Vector Machine\n",
    "# DT vs SVM\n",
    "# ----------------------------------------------------------------------------\n",
    "from statsmodels.stats.contingency_tables import mcnemar\n",
    "table = [[12, 0],\n",
    "\t\t [0, 48]]\n",
    "result = mcnemar(table, exact=True)\n",
    "print('statistic=%.3f, p-value=%.3f' % (result.statistic, result.pvalue))\n",
    "alpha = 0.05\n",
    "if result.pvalue > alpha:\n",
    "\tprint('Same proportions of errors (fail to reject H0)')\n",
    "else:\n",
    "\tprint('Different proportions of errors (reject H0)')"
   ]
  },
  {
   "cell_type": "code",
   "execution_count": 10,
   "metadata": {},
   "outputs": [
    {
     "name": "stdout",
     "output_type": "stream",
     "text": [
      "statistic=2.000, p-value=0.007\n",
      "Different proportions of errors (reject H0)\n"
     ]
    }
   ],
   "source": [
    "# Random Forest VS Naive Bayes\n",
    "# RF vs NB\n",
    "# ----------------------------------------------------------------------------\n",
    "from statsmodels.stats.contingency_tables import mcnemar\n",
    "table = [[13, 2],\n",
    "\t\t [13, 32]]\n",
    "result = mcnemar(table, exact=True)\n",
    "print('statistic=%.3f, p-value=%.3f' % (result.statistic, result.pvalue))\n",
    "alpha = 0.05\n",
    "if result.pvalue > alpha:\n",
    "\tprint('Same proportions of errors (fail to reject H0)')\n",
    "else:\n",
    "\tprint('Different proportions of errors (reject H0)')"
   ]
  },
  {
   "cell_type": "code",
   "execution_count": 11,
   "metadata": {},
   "outputs": [
    {
     "name": "stdout",
     "output_type": "stream",
     "text": [
      "statistic=0.000, p-value=0.250\n",
      "Same proportions of errors (fail to reject H0)\n"
     ]
    }
   ],
   "source": [
    "# Random Forest VS Support-Vector Machine\n",
    "# RF vs SVM\n",
    "# ----------------------------------------------------------------------------\n",
    "from statsmodels.stats.contingency_tables import mcnemar\n",
    "table = [[12, 3],\n",
    "\t\t [0, 45]]\n",
    "result = mcnemar(table, exact=True)\n",
    "print('statistic=%.3f, p-value=%.3f' % (result.statistic, result.pvalue))\n",
    "alpha = 0.05\n",
    "if result.pvalue > alpha:\n",
    "\tprint('Same proportions of errors (fail to reject H0)')\n",
    "else:\n",
    "\tprint('Different proportions of errors (reject H0)')"
   ]
  },
  {
   "cell_type": "code",
   "execution_count": 12,
   "metadata": {},
   "outputs": [
    {
     "name": "stdout",
     "output_type": "stream",
     "text": [
      "statistic=0.000, p-value=0.000\n",
      "Different proportions of errors (reject H0)\n"
     ]
    }
   ],
   "source": [
    "# Naive Bayes VS Support-Vector Machine\n",
    "# NB vs SVM\n",
    "# ----------------------------------------------------------------------------\n",
    "from statsmodels.stats.contingency_tables import mcnemar\n",
    "table = [[12, 14],\n",
    "\t\t [0, 34]]\n",
    "result = mcnemar(table, exact=True)\n",
    "print('statistic=%.3f, p-value=%.3f' % (result.statistic, result.pvalue))\n",
    "alpha = 0.05\n",
    "if result.pvalue > alpha:\n",
    "\tprint('Same proportions of errors (fail to reject H0)')\n",
    "else:\n",
    "\tprint('Different proportions of errors (reject H0)')"
   ]
  }
 ],
 "metadata": {
  "kernelspec": {
   "display_name": "Python 3 (ipykernel)",
   "language": "python",
   "name": "python3"
  },
  "language_info": {
   "codemirror_mode": {
    "name": "ipython",
    "version": 3
   },
   "file_extension": ".py",
   "mimetype": "text/x-python",
   "name": "python",
   "nbconvert_exporter": "python",
   "pygments_lexer": "ipython3",
   "version": "3.10.5"
  }
 },
 "nbformat": 4,
 "nbformat_minor": 4
}
